{
 "cells": [
  {
   "cell_type": "markdown",
   "metadata": {},
   "source": [
    "# python_programming_basic_assignment_6"
   ]
  },
  {
   "cell_type": "markdown",
   "metadata": {},
   "source": [
    "# Q1"
   ]
  },
  {
   "cell_type": "code",
   "execution_count": 20,
   "metadata": {},
   "outputs": [
    {
     "name": "stdout",
     "output_type": "stream",
     "text": [
      "enter a number:\t6\n",
      "Factorial of the no. is =  720\n"
     ]
    }
   ],
   "source": [
    "#funct to calculate factorial\n",
    "\n",
    "def _fact(a):\n",
    "    if a >= 1:\n",
    "        return (a*_fact(a-1))\n",
    "    elif a == 0:\n",
    "        return 1\n",
    "\n",
    "#Main\n",
    "\n",
    "n = int(input(\"enter a number:\\t\"))\n",
    "print(\"Factorial of the no. is = \",_fact(n))"
   ]
  },
  {
   "cell_type": "markdown",
   "metadata": {},
   "source": [
    "# Q2"
   ]
  },
  {
   "cell_type": "code",
   "execution_count": 22,
   "metadata": {},
   "outputs": [
    {
     "name": "stdout",
     "output_type": "stream",
     "text": [
      "Enter no. of terms required:  10\n",
      "0\n",
      "1\n",
      "1\n",
      "2\n",
      "3\n",
      "5\n",
      "8\n",
      "13\n",
      "21\n",
      "34\n",
      "#End of Series\n"
     ]
    }
   ],
   "source": [
    "#Fibonacci using recursion\n",
    "\n",
    "def _fib(n,a=0,b=1,i=0):\n",
    "    if i == 0:\n",
    "        print(\"0\")\n",
    "        print(\"1\")\n",
    "        return _fib(n,0,1,i+2)\n",
    "    elif i < n: \n",
    "        print(a+b)\n",
    "        return _fib(n,b,a+b,i+1)\n",
    "    else:\n",
    "        print('#End of Series')\n",
    "        \n",
    "j = int(input(\"Enter no. of terms required:  \"))\n",
    "\n",
    "_fib(j)"
   ]
  },
  {
   "cell_type": "markdown",
   "metadata": {},
   "source": [
    "# Q3"
   ]
  },
  {
   "cell_type": "code",
   "execution_count": 12,
   "metadata": {},
   "outputs": [
    {
     "name": "stdout",
     "output_type": "stream",
     "text": [
      "Enter ur mass in KGs:  60\n",
      "Enter ur Height in meters:  1.7\n",
      "ur BMI is 20.76\n"
     ]
    }
   ],
   "source": [
    "# Calculate BMI\n",
    "\n",
    "m = float(input(\"Enter ur mass in KGs:  \"))\n",
    "h = float(input(\"Enter ur Height in meters:  \"))\n",
    "print(\"ur BMI is {}\".format(round(m/(h**2),2)))"
   ]
  },
  {
   "cell_type": "markdown",
   "metadata": {},
   "source": [
    "# Q4"
   ]
  },
  {
   "cell_type": "code",
   "execution_count": 19,
   "metadata": {},
   "outputs": [
    {
     "name": "stdout",
     "output_type": "stream",
     "text": [
      "To calculate natural log N, enter the value of N:  2\n",
      "log e (N) =  0.6931471805599453\n"
     ]
    }
   ],
   "source": [
    "# natural log of any number\n",
    "\n",
    "from math import *\n",
    "\n",
    "n = float(input(\"To calculate natural log N, enter the value of N:  \"))\n",
    "print(\"log e (N) = \",log(n))"
   ]
  },
  {
   "cell_type": "markdown",
   "metadata": {},
   "source": [
    "# Q5"
   ]
  },
  {
   "cell_type": "code",
   "execution_count": 16,
   "metadata": {},
   "outputs": [
    {
     "name": "stdout",
     "output_type": "stream",
     "text": [
      "To calc. sum of cube of first \"N\" Natural No., Enter value of N: 5\n",
      "Sum of cubes =  225\n"
     ]
    }
   ],
   "source": [
    "# Sum of cube of first N natural numbers\n",
    "\n",
    "sum = 0\n",
    "n = int(input('To calc. sum of cube of first \"N\" Natural No., Enter value of N: '))\n",
    "while n >0:\n",
    "    sum += n**3\n",
    "    n -= 1\n",
    "\n",
    "print ('Sum of cubes = ',sum)"
   ]
  },
  {
   "cell_type": "code",
   "execution_count": null,
   "metadata": {},
   "outputs": [],
   "source": []
  }
 ],
 "metadata": {
  "kernelspec": {
   "display_name": "Python 3",
   "language": "python",
   "name": "python3"
  },
  "language_info": {
   "codemirror_mode": {
    "name": "ipython",
    "version": 3
   },
   "file_extension": ".py",
   "mimetype": "text/x-python",
   "name": "python",
   "nbconvert_exporter": "python",
   "pygments_lexer": "ipython3",
   "version": "3.8.5"
  }
 },
 "nbformat": 4,
 "nbformat_minor": 4
}
