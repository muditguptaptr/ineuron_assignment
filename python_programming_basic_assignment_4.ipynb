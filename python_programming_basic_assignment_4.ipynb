{
 "cells": [
  {
   "cell_type": "markdown",
   "metadata": {},
   "source": [
    "# python_programming_basic_assignment_4"
   ]
  },
  {
   "cell_type": "markdown",
   "metadata": {},
   "source": [
    "# Q1"
   ]
  },
  {
   "cell_type": "code",
   "execution_count": 17,
   "metadata": {},
   "outputs": [
    {
     "name": "stdout",
     "output_type": "stream",
     "text": [
      "Enter a number:\t6\n",
      "Factorial of 6 is: 720\n"
     ]
    }
   ],
   "source": [
    "#funct to calculate factorial\n",
    "\n",
    "n = int(input(\"Enter a number:\\t\"))\n",
    "s =str(n)\n",
    "fct = 1\n",
    "while n != 0:\n",
    "    fct = fct *n\n",
    "    n -= 1\n",
    "print (\"Factorial of {} is: {}\".format(s,fct))\n",
    "    "
   ]
  },
  {
   "cell_type": "markdown",
   "metadata": {},
   "source": [
    "# Q2"
   ]
  },
  {
   "cell_type": "code",
   "execution_count": 11,
   "metadata": {},
   "outputs": [
    {
     "name": "stdout",
     "output_type": "stream",
     "text": [
      "Enter a number:\t9\n",
      "9 X 1 = 9\n",
      "9 X 2 = 18\n",
      "9 X 3 = 27\n",
      "9 X 4 = 36\n",
      "9 X 5 = 45\n",
      "9 X 6 = 54\n",
      "9 X 7 = 63\n",
      "9 X 8 = 72\n",
      "9 X 9 = 81\n",
      "9 X 10 = 90\n"
     ]
    }
   ],
   "source": [
    "#diaplay table of a number\n",
    "\n",
    "n = int(input(\"Enter a number:\\t\"))\n",
    "for i in range(1,11):\n",
    "    print(\"{} X {} = {}\".format(n,i,n*i))"
   ]
  },
  {
   "cell_type": "markdown",
   "metadata": {},
   "source": [
    "# Q3"
   ]
  },
  {
   "cell_type": "code",
   "execution_count": 17,
   "metadata": {},
   "outputs": [
    {
     "name": "stdout",
     "output_type": "stream",
     "text": [
      "No. of terms of fibonacci series required:\t10\n",
      "0\n",
      "1\n",
      "1\n",
      "2\n",
      "3\n",
      "5\n",
      "8\n",
      "13\n",
      "21\n",
      "34\n"
     ]
    }
   ],
   "source": [
    "#Printing Fibonacci series\n",
    "\n",
    "n = int(input(\"No. of terms of fibonacci series required:\\t\"))\n",
    "a,b = 0 , 1\n",
    "print(a)\n",
    "print(b)\n",
    "while n-2 !=0:\n",
    "    print(a+b)\n",
    "    a,b = b,a+b\n",
    "    n -=1"
   ]
  },
  {
   "cell_type": "markdown",
   "metadata": {},
   "source": [
    "# Q4"
   ]
  },
  {
   "cell_type": "code",
   "execution_count": 24,
   "metadata": {},
   "outputs": [
    {
     "name": "stdout",
     "output_type": "stream",
     "text": [
      "Enter an armstrong number:\t1634\n",
      "True ARMSTRONG\n"
     ]
    }
   ],
   "source": [
    "#Check weather a number is ARMSTRONG or not\n",
    "\n",
    "n = int(input(\"Enter an armstrong number:\\t\"))\n",
    "l = len(str(n))\n",
    "st = str(n)\n",
    "sum = 0\n",
    "for i in st:\n",
    "    sum += int(i)**l\n",
    "\n",
    "if sum == n:\n",
    "    print(\"True ARMSTRONG\")\n",
    "else:\n",
    "    print(\"Not ARMSTRONG\")"
   ]
  },
  {
   "cell_type": "markdown",
   "metadata": {},
   "source": [
    "# Q5"
   ]
  },
  {
   "cell_type": "code",
   "execution_count": 29,
   "metadata": {},
   "outputs": [
    {
     "name": "stdout",
     "output_type": "stream",
     "text": [
      "To print all Armstrong number in a range\n",
      "Enter the lower limit:  10\n",
      "Enter the upper limit:  10000\n",
      "153 is an armstrong number\n",
      "370 is an armstrong number\n",
      "371 is an armstrong number\n",
      "407 is an armstrong number\n",
      "1634 is an armstrong number\n",
      "8208 is an armstrong number\n",
      "9474 is an armstrong number\n",
      "Only these many numbers found\n"
     ]
    }
   ],
   "source": [
    "#funct to check armstrong\n",
    "\n",
    "def isArmst(n):\n",
    "    l = len(str(n))\n",
    "    st = str(n)\n",
    "    sum = 0\n",
    "    for i in st:\n",
    "        sum += int(i)**l\n",
    "        \n",
    "    if sum == n:\n",
    "        return True\n",
    "    else:\n",
    "        return False    \n",
    "\n",
    "#Main\n",
    "\n",
    "print(\"To print all Armstrong number in a range\")\n",
    "l = int(input(\"Enter the lower limit:  \"))\n",
    "u = int(input(\"Enter the upper limit:  \"))\n",
    "for i in range (l,u+1):\n",
    "    if isArmst(i):\n",
    "        print(\"{} is an armstrong number\".format(i))\n",
    "else:\n",
    "    print(\"Only these many numbers found\")"
   ]
  },
  {
   "cell_type": "markdown",
   "metadata": {},
   "source": [
    "# Q6"
   ]
  },
  {
   "cell_type": "code",
   "execution_count": 5,
   "metadata": {},
   "outputs": [
    {
     "name": "stdout",
     "output_type": "stream",
     "text": [
      "Enter the last Natural Number to which Sum is to be calculated:  15\n",
      "SUM of First n natural numbers is:  120\n"
     ]
    }
   ],
   "source": [
    "# Sum of first N natural numbers using loop\n",
    "\n",
    "n = int(input(\"Enter the last Natural Number to which Sum is to be calculated:  \"))\n",
    "sum = 0\n",
    "while n !=0:\n",
    "    sum += n\n",
    "    n-=1\n",
    "print(\"SUM of First n natural numbers is: \",sum)"
   ]
  },
  {
   "cell_type": "code",
   "execution_count": 7,
   "metadata": {},
   "outputs": [
    {
     "name": "stdout",
     "output_type": "stream",
     "text": [
      "Enter the last Natural Number to which Sum is to be calculated:  15\n",
      "SUM of First n natural numbers is:  120.0\n"
     ]
    }
   ],
   "source": [
    "# Sum of first N natural numbers using AP formula\n",
    "\n",
    "n = int(input(\"Enter the last Natural Number to which Sum is to be calculated:  \"))\n",
    "sum = (n*(n+1))/2\n",
    "print(\"SUM of First n natural numbers is: \",sum)"
   ]
  },
  {
   "cell_type": "code",
   "execution_count": null,
   "metadata": {},
   "outputs": [],
   "source": []
  }
 ],
 "metadata": {
  "kernelspec": {
   "display_name": "Python 3",
   "language": "python",
   "name": "python3"
  },
  "language_info": {
   "codemirror_mode": {
    "name": "ipython",
    "version": 3
   },
   "file_extension": ".py",
   "mimetype": "text/x-python",
   "name": "python",
   "nbconvert_exporter": "python",
   "pygments_lexer": "ipython3",
   "version": "3.8.5"
  }
 },
 "nbformat": 4,
 "nbformat_minor": 4
}
