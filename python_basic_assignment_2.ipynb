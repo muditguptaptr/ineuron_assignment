{
 "cells": [
  {
   "cell_type": "markdown",
   "metadata": {},
   "source": [
    "# Q1\n",
    "1 What are the two values of the Boolean data type? How do you write them?\n",
    "\n",
    "Boolean data types can have 2 values which are:\n",
    "                        True and False."
   ]
  },
  {
   "cell_type": "code",
   "execution_count": 26,
   "metadata": {},
   "outputs": [
    {
     "name": "stdout",
     "output_type": "stream",
     "text": [
      "Value:\t -1 \tBoolean value:\t True\n",
      "Value:\t -0.1 \tBoolean value:\t True\n",
      "Value:\t 0 \tBoolean value:\t False\n",
      "Value:\t 0.1 \tBoolean value:\t True\n",
      "Value:\t 1 \tBoolean value:\t True\n"
     ]
    }
   ],
   "source": [
    "a=[-1,-0.1,0,0.1,1]\n",
    "\n",
    "for i in a:\n",
    "    print(\"Value:\\t\",i, \"\\tBoolean value:\\t\",bool(i), )\n",
    "\n",
    "#only zero gives boolean value of False\n",
    "#emphasis of case of \"True\" and \"False\""
   ]
  },
  {
   "cell_type": "code",
   "execution_count": 31,
   "metadata": {},
   "outputs": [
    {
     "name": "stdout",
     "output_type": "stream",
     "text": [
      "True\n",
      "False \t False \t False \t False \t False \t False \t False\n"
     ]
    }
   ],
   "source": [
    "a = [1,2,3,4,5]\n",
    "print(2 in a)\n",
    "\n",
    "print ( bool(False),\"\\t\",bool(None),\"\\t\",bool(0),\"\\t\",bool(\"\"),\"\\t\",bool(()),\"\\t\",bool([]),\"\\t\",bool({}) )"
   ]
  },
  {
   "cell_type": "markdown",
   "metadata": {},
   "source": [
    "# Q2\n",
    "2 What are the three different types of Boolean operators?\n",
    "\n",
    "boolean operators in python are: \n",
    "and,\n",
    "or,\n",
    "not.\n"
   ]
  },
  {
   "cell_type": "code",
   "execution_count": 36,
   "metadata": {},
   "outputs": [
    {
     "name": "stdout",
     "output_type": "stream",
     "text": [
      "a1 and a2:\t False \n",
      "a1 or a2:\t True \n",
      "not a2:\t\t True\n"
     ]
    }
   ],
   "source": [
    "a1,a2,a3 = 10,0,-10\n",
    "\n",
    "print(\"a1 and a2:\\t\" , bool(a1 and a2),\"\\na1 or a2:\\t\" , bool(a1 or a2), \"\\nnot a2:\\t\\t\" , bool(not a2))"
   ]
  },
  {
   "cell_type": "markdown",
   "metadata": {},
   "source": [
    "# Q3\n",
    "3 Make a list of each Boolean operator's truth tables (i.e. every possible combination of Boolean\n",
    "values for the operator and what it evaluate )."
   ]
  },
  {
   "cell_type": "code",
   "execution_count": 41,
   "metadata": {},
   "outputs": [
    {
     "name": "stdout",
     "output_type": "stream",
     "text": [
      "AND Truth table:\n",
      "1 and 1:\t 1 \n",
      "1 and 0:\t 0 \n",
      "0 and 1:\t 0 \n",
      "0 and 0:\t 0\n",
      "\n",
      "OR Truth table:\n",
      "1 or 1:\t 1 \n",
      "1 or 0:\t 1 \n",
      "0 or 1:\t 1 \n",
      "0 or 0:\t 0\n",
      "\n",
      "NOT Truth table:\n",
      "not 1:\t False \n",
      "not 0:\t True\n"
     ]
    }
   ],
   "source": [
    "print(\"AND Truth table:\")\n",
    "print (\"1 and 1:\\t\",1 and 1,\"\\n1 and 0:\\t\",1 and 0,\"\\n0 and 1:\\t\",0 and 1,\"\\n0 and 0:\\t\",0 and 0)\n",
    "\n",
    "print(\"\\nOR Truth table:\")\n",
    "print (\"1 or 1:\\t\",1 or 1,\"\\n1 or 0:\\t\",1 or 0,\"\\n0 or 1:\\t\",0 or 1,\"\\n0 or 0:\\t\",0 or 0)\n",
    "\n",
    "print(\"\\nNOT Truth table:\")\n",
    "print (\"not 1:\\t\",not 1,\"\\nnot 0:\\t\",not 0)"
   ]
  },
  {
   "cell_type": "code",
   "execution_count": 59,
   "metadata": {},
   "outputs": [
    {
     "name": "stdout",
     "output_type": "stream",
     "text": [
      "#1 1\n",
      "#2 0\n",
      "#3 100\n",
      "#4 10\n",
      "#5 10\n"
     ]
    }
   ],
   "source": [
    "#execute frm right to left\n",
    "# 'and' returns the first False value or last value\n",
    "print(\"#1\",7 and 10 and 1)\n",
    "print(\"#2\",0 and 100)\n",
    "\n",
    "# 'or' returns the first True value or last value\n",
    "\n",
    "print(\"#3\",100 or 10 or 1)\n",
    "print(\"#4\",0 or 10 or 1)\n",
    "\n",
    "print(\"#5\",7 and 1 and 10 or 0)"
   ]
  },
  {
   "cell_type": "markdown",
   "metadata": {},
   "source": [
    "# Q4\n",
    "4. What are the values of the following expressions?\n",
    "(5 > 4) and (3 == 5)\n",
    "not (5 > 4)\n",
    "(5 > 4) or (3 == 5)\n",
    "not ((5 > 4) or (3 == 5))\n",
    "(True and True) and (True == False)\n",
    "(not False) or (not True)"
   ]
  },
  {
   "cell_type": "code",
   "execution_count": 44,
   "metadata": {},
   "outputs": [
    {
     "name": "stdout",
     "output_type": "stream",
     "text": [
      "(5 > 4) and (3 == 5):\n",
      "False\n",
      "not (5 > 4):\n",
      "False\n",
      "(5 > 4) or (3 == 5):\n",
      "True\n",
      "not ((5 > 4) or (3 == 5)):\n",
      "False\n",
      "(True and True) and (True == False):\n",
      "False\n",
      "(not False) or (not True):\n",
      "True\n"
     ]
    }
   ],
   "source": [
    "print(\"(5 > 4) and (3 == 5):\")\n",
    "print((5 > 4) and (3 == 5))\n",
    "print(\"not (5 > 4):\")\n",
    "print(not (5 > 4))\n",
    "print(\"(5 > 4) or (3 == 5):\")\n",
    "print((5 > 4) or (3 == 5))\n",
    "print(\"not ((5 > 4) or (3 == 5)):\")\n",
    "print(not ((5 > 4) or (3 == 5)))\n",
    "print(\"(True and True) and (True == False):\")\n",
    "print((True and True) and (True == False))\n",
    "print(\"(not False) or (not True):\")\n",
    "print((not False) or (not True))"
   ]
  },
  {
   "cell_type": "markdown",
   "metadata": {},
   "source": [
    "# Q5\n",
    "5 What are the six comparison operators?\n",
    "greater than: >\n",
    "greater than or equals to: >=\n",
    "less than: <\n",
    "less than or equals to: <=\n",
    "equals to: == \n",
    "not equals to: !=\n"
   ]
  },
  {
   "cell_type": "code",
   "execution_count": 62,
   "metadata": {},
   "outputs": [
    {
     "name": "stdout",
     "output_type": "stream",
     "text": [
      "#1 False\n",
      "#2 True\n",
      "#3 True\n",
      "#4 False\n",
      "#5 False\n",
      "#6 True\n"
     ]
    }
   ],
   "source": [
    "print(\"#1\",5>6)\n",
    "print(\"#2\",5<6)\n",
    "print(\"#3\",5==5)\n",
    "print(\"#4\",5!=5)\n",
    "print(\"#5\",5>=6)\n",
    "print(\"#6\",5<=6)\n"
   ]
  },
  {
   "cell_type": "markdown",
   "metadata": {},
   "source": [
    "# Q6\n",
    "\n",
    "6 How do you tell the difference between the equal to and assignment operators?Describe a\n",
    "condition and when you would use one.\n",
    "\n",
    "Equals to operator is used to check the value of variables if its True or False, used as double equals to symbol\n",
    "\n",
    "Assignment ofprator is used to assign values to variables or write expression, used as single equals to symbol"
   ]
  },
  {
   "cell_type": "code",
   "execution_count": 64,
   "metadata": {},
   "outputs": [
    {
     "name": "stdout",
     "output_type": "stream",
     "text": [
      "True\n"
     ]
    }
   ],
   "source": [
    "a = 10 #assignment to variable a\n",
    "\n",
    "if a ==10: print (True) # Equals to operator "
   ]
  },
  {
   "cell_type": "markdown",
   "metadata": {},
   "source": [
    "# Q7\n",
    "7 Identify the three blocks in this code:\n",
    "spam = 0\n",
    "if spam == 10:\n",
    "print(&#39;eggs&#39;)\n",
    "if spam &gt; 5:\n",
    "print(&#39;bacon&#39;)\n",
    "else:\n",
    "print(&#39;ham&#39;)\n",
    "print(&#39;spam&#39;)\n",
    "print(&#39;spam&#39;)"
   ]
  },
  {
   "cell_type": "code",
   "execution_count": 66,
   "metadata": {},
   "outputs": [
    {
     "name": "stdout",
     "output_type": "stream",
     "text": [
      "ham\n",
      "spam\n",
      "spam\n"
     ]
    }
   ],
   "source": [
    "spam = 0\n",
    "\n",
    "if spam == 10:\n",
    "    print('eggs')\n",
    "if spam > 5:\n",
    "    print('bacon')\n",
    "else:\n",
    "    print('ham')\n",
    "\n",
    "print('spam')\n",
    "print('spam')"
   ]
  },
  {
   "cell_type": "markdown",
   "metadata": {},
   "source": [
    "# Q8\n",
    "8 Write code that prints Hello if 1 is stored in spam, prints Howdy if 2 is stored in spam, and prints\n",
    "Greetings! if anything else is stored in spam."
   ]
  },
  {
   "cell_type": "code",
   "execution_count": 70,
   "metadata": {},
   "outputs": [
    {
     "name": "stdout",
     "output_type": "stream",
     "text": [
      "enter value3\n",
      "Greetings!\n"
     ]
    }
   ],
   "source": [
    "spam = int(input(\"enter value\"))\n",
    "if spam == 1:\n",
    "    print(\"Hello\")\n",
    "elif spam == 2:\n",
    "    print(\"Howdy\")\n",
    "else:\n",
    "    print(\"Greetings!\")"
   ]
  },
  {
   "cell_type": "markdown",
   "metadata": {},
   "source": [
    "# Q9\n",
    "9 If your programme is stuck in an endless loop, what keys you’ll press?\n",
    "\n",
    "To terminate the program press: Ctrl + c "
   ]
  },
  {
   "cell_type": "markdown",
   "metadata": {},
   "source": [
    "# Q10\n",
    "10 How can you tell the difference between break and continue?\n",
    "\n",
    "break: it exits the loop\n",
    "continue: it exits the iteration in which it is currently in, in a loop "
   ]
  },
  {
   "cell_type": "code",
   "execution_count": 103,
   "metadata": {},
   "outputs": [
    {
     "name": "stdout",
     "output_type": "stream",
     "text": [
      "10 is even and greater than 8\n",
      "12 is even and greater than 8\n",
      "14 is even and greater than 8\n",
      "ok  1 \t 2\n",
      "ok  2 \t 3\n",
      "ok  3 \t 4\n",
      "ok  4 \t 5\n",
      "ok  5 \t 6\n",
      "ok  6 \t 7\n",
      "ok  7 \t 8\n",
      "ok  8 \t 10\n",
      "ok  10 \t 10\n",
      "ok  10 \t 11\n",
      "list scan successful\n"
     ]
    }
   ],
   "source": [
    "for i in range (16):\n",
    "    if i%2 == 0:\n",
    "        if i <= 8:\n",
    "            continue\n",
    "        print(i,\"is even and greater than 8\")\n",
    "\n",
    "a = [1,2,3,4,5,6,7,8,10,10,11]\n",
    "for i in range(len(a)-1):\n",
    "    j=i+1\n",
    "    a1,a2 = a[i],a[j]\n",
    "    if a1<=a2:\n",
    "        print(\"ok \", a[i],\"\\t\",a[j])\n",
    "        continue\n",
    "    else:\n",
    "        print(\"terminated, order is wrong in \",a[i],\"\\t\", a[j])\n",
    "        break\n",
    "        \n",
    "    print(\"this wont be printed coz of 'continute' statment\")\n",
    "\n",
    "    \n",
    "else:\n",
    "    print(\"list scan successful\")\n"
   ]
  },
  {
   "cell_type": "code",
   "execution_count": 91,
   "metadata": {},
   "outputs": [
    {
     "name": "stdout",
     "output_type": "stream",
     "text": [
      "10 is even and greater than 8\n",
      "12 is even and greater than 8\n",
      "14 is even and greater than 8\n"
     ]
    },
    {
     "ename": "ValueError",
     "evalue": "too many values to unpack (expected 2)",
     "output_type": "error",
     "traceback": [
      "\u001b[1;31m---------------------------------------------------------------------------\u001b[0m",
      "\u001b[1;31mValueError\u001b[0m                                Traceback (most recent call last)",
      "\u001b[1;32m<ipython-input-91-8f2c8086d0b2>\u001b[0m in \u001b[0;36m<module>\u001b[1;34m\u001b[0m\n\u001b[0;32m      6\u001b[0m \u001b[1;33m\u001b[0m\u001b[0m\n\u001b[0;32m      7\u001b[0m \u001b[0ma\u001b[0m \u001b[1;33m=\u001b[0m \u001b[1;33m[\u001b[0m\u001b[1;36m1\u001b[0m\u001b[1;33m,\u001b[0m\u001b[1;36m2\u001b[0m\u001b[1;33m,\u001b[0m\u001b[1;36m3\u001b[0m\u001b[1;33m,\u001b[0m\u001b[1;36m4\u001b[0m\u001b[1;33m,\u001b[0m\u001b[1;36m5\u001b[0m\u001b[1;33m,\u001b[0m\u001b[1;36m6\u001b[0m\u001b[1;33m,\u001b[0m\u001b[1;36m7\u001b[0m\u001b[1;33m,\u001b[0m\u001b[1;36m9\u001b[0m\u001b[1;33m,\u001b[0m\u001b[1;36m8\u001b[0m\u001b[1;33m,\u001b[0m\u001b[1;36m10\u001b[0m\u001b[1;33m,\u001b[0m\u001b[1;36m11\u001b[0m\u001b[1;33m]\u001b[0m\u001b[1;33m\u001b[0m\u001b[1;33m\u001b[0m\u001b[0m\n\u001b[1;32m----> 8\u001b[1;33m \u001b[1;32mfor\u001b[0m \u001b[0mi\u001b[0m\u001b[1;33m,\u001b[0m\u001b[0mj\u001b[0m \u001b[1;32min\u001b[0m \u001b[0mrange\u001b[0m\u001b[1;33m(\u001b[0m\u001b[0mlen\u001b[0m\u001b[1;33m(\u001b[0m\u001b[0ma\u001b[0m\u001b[1;33m)\u001b[0m\u001b[1;33m-\u001b[0m\u001b[1;36m1\u001b[0m\u001b[1;33m)\u001b[0m\u001b[1;33m,\u001b[0m \u001b[0mrange\u001b[0m\u001b[1;33m(\u001b[0m\u001b[1;36m1\u001b[0m\u001b[1;33m,\u001b[0m\u001b[0mlen\u001b[0m\u001b[1;33m(\u001b[0m\u001b[0ma\u001b[0m\u001b[1;33m)\u001b[0m\u001b[1;33m)\u001b[0m\u001b[1;33m:\u001b[0m\u001b[1;33m\u001b[0m\u001b[1;33m\u001b[0m\u001b[0m\n\u001b[0m\u001b[0;32m      9\u001b[0m     \u001b[0ma1\u001b[0m\u001b[1;33m,\u001b[0m\u001b[0ma2\u001b[0m \u001b[1;33m=\u001b[0m \u001b[0ma\u001b[0m\u001b[1;33m[\u001b[0m\u001b[0mi\u001b[0m\u001b[1;33m]\u001b[0m\u001b[1;33m,\u001b[0m\u001b[0ma\u001b[0m\u001b[1;33m[\u001b[0m\u001b[0mj\u001b[0m\u001b[1;33m]\u001b[0m\u001b[1;33m\u001b[0m\u001b[1;33m\u001b[0m\u001b[0m\n\u001b[0;32m     10\u001b[0m     \u001b[1;32mif\u001b[0m \u001b[0ma1\u001b[0m\u001b[1;33m<=\u001b[0m\u001b[0ma2\u001b[0m\u001b[1;33m:\u001b[0m\u001b[1;33m\u001b[0m\u001b[1;33m\u001b[0m\u001b[0m\n",
      "\u001b[1;31mValueError\u001b[0m: too many values to unpack (expected 2)"
     ]
    }
   ],
   "source": [
    "##facing problem here to initiate 2 variables in a for loop, need help!!\n",
    "\n",
    "a = [1,2,3,4,5,6,7,9,8,10,11]\n",
    "for i,j in range(len(a)-1), range(1,len(a)):\n",
    "    a1,a2 = a[i],a[j]\n",
    "    if a1<=a2:\n",
    "        print(\"ok \", i,\"\\t\",j)\n",
    "        continue\n",
    "    else:\n",
    "        print(\"terminated, order is wrong in \",i,\"\\t\", j)\n",
    "        break"
   ]
  },
  {
   "cell_type": "markdown",
   "metadata": {},
   "source": [
    "# Q11\n",
    "11  In a for loop, what is the difference between range(10), range(0, 10), and range(0, 10, 1)?\n",
    "there should be no change: as in range function takes: \n",
    "arg1 = initial value, default value = 0; \n",
    "arg2 = final value by one less, on default value;\n",
    "arg3 = step size, default value = 1."
   ]
  },
  {
   "cell_type": "code",
   "execution_count": 112,
   "metadata": {},
   "outputs": [
    {
     "name": "stdout",
     "output_type": "stream",
     "text": [
      "0   1   2   3   4   5   6   7   8   9   \n",
      "0   1   2   3   4   5   6   7   8   9   \n",
      "0   1   2   3   4   5   6   7   8   9   "
     ]
    }
   ],
   "source": [
    "for i in range(10):\n",
    "    print (i,\"  \", end=\"\")\n",
    "    \n",
    "print(\"\")\n",
    "for i in range(0,10):\n",
    "    print (i,\"  \", end=\"\")\n",
    "\n",
    "    \n",
    "print(\"\")\n",
    "for i in range(0,10,1):\n",
    "    print (i,\"  \", end=\"\")"
   ]
  },
  {
   "cell_type": "markdown",
   "metadata": {},
   "source": [
    "# Q12\n",
    "12 Write a short program that prints the numbers 1 to 10 using a for loop. Then write an equivalent\n",
    "program that prints the numbers 1 to 10 using a while loop."
   ]
  },
  {
   "cell_type": "code",
   "execution_count": 117,
   "metadata": {},
   "outputs": [
    {
     "name": "stdout",
     "output_type": "stream",
     "text": [
      "1 \t2 \t3 \t4 \t5 \t6 \t7 \t8 \t9 \t10 \t\n",
      "\n",
      "\n",
      "1 \t2 \t3 \t4 \t5 \t6 \t7 \t8 \t9 \t10 \t"
     ]
    }
   ],
   "source": [
    "for i in range(1,11):\n",
    "    print(i,\"\\t\",end=\"\")\n",
    "    \n",
    "print(\"\\n\\n\")\n",
    "\n",
    "i=1\n",
    "while i < 11:\n",
    "    print (i,\"\\t\",end=\"\")\n",
    "    i+=1"
   ]
  },
  {
   "cell_type": "markdown",
   "metadata": {},
   "source": [
    "# Q13\n",
    "13  If you had a function named bacon() inside a module named spam, how would you call it after\n",
    "importing spam?"
   ]
  },
  {
   "cell_type": "code",
   "execution_count": 120,
   "metadata": {
    "scrolled": true
   },
   "outputs": [
    {
     "ename": "ModuleNotFoundError",
     "evalue": "No module named 'spam'",
     "output_type": "error",
     "traceback": [
      "\u001b[1;31m---------------------------------------------------------------------------\u001b[0m",
      "\u001b[1;31mModuleNotFoundError\u001b[0m                       Traceback (most recent call last)",
      "\u001b[1;32m<ipython-input-120-9264136e0c74>\u001b[0m in \u001b[0;36m<module>\u001b[1;34m\u001b[0m\n\u001b[0;32m      2\u001b[0m \u001b[1;31m#if arg1 and arg2 are of same or different data types respectively.\u001b[0m\u001b[1;33m\u001b[0m\u001b[1;33m\u001b[0m\u001b[1;33m\u001b[0m\u001b[0m\n\u001b[0;32m      3\u001b[0m \u001b[1;33m\u001b[0m\u001b[0m\n\u001b[1;32m----> 4\u001b[1;33m \u001b[1;32mfrom\u001b[0m \u001b[0mspam\u001b[0m \u001b[1;32mimport\u001b[0m \u001b[1;33m*\u001b[0m\u001b[1;33m\u001b[0m\u001b[1;33m\u001b[0m\u001b[0m\n\u001b[0m\u001b[0;32m      5\u001b[0m \u001b[0ma\u001b[0m\u001b[1;33m,\u001b[0m\u001b[0mb\u001b[0m \u001b[1;33m=\u001b[0m \u001b[1;36m10\u001b[0m\u001b[1;33m,\u001b[0m\u001b[1;34m\"mudit\"\u001b[0m\u001b[1;33m\u001b[0m\u001b[1;33m\u001b[0m\u001b[0m\n\u001b[0;32m      6\u001b[0m \u001b[0mprint\u001b[0m\u001b[1;33m(\u001b[0m\u001b[0mbacon\u001b[0m\u001b[1;33m(\u001b[0m\u001b[0ma\u001b[0m\u001b[1;33m,\u001b[0m\u001b[0mb\u001b[0m\u001b[1;33m)\u001b[0m\u001b[1;33m)\u001b[0m\u001b[1;33m\u001b[0m\u001b[1;33m\u001b[0m\u001b[0m\n",
      "\u001b[1;31mModuleNotFoundError\u001b[0m: No module named 'spam'"
     ]
    }
   ],
   "source": [
    "#suppose bacon fucntion accepts 2 argument and returns true or false \n",
    "#if arg1 and arg2 are of same or different data types respectively.\n",
    "\n",
    "from spam import *\n",
    "a,b = 10,\"mudit\"\n",
    "print(bacon(a,b))\n",
    "\n",
    "#surely it will generate an error here as, No module named 'spam' exists."
   ]
  },
  {
   "cell_type": "code",
   "execution_count": null,
   "metadata": {},
   "outputs": [],
   "source": []
  },
  {
   "cell_type": "code",
   "execution_count": null,
   "metadata": {},
   "outputs": [],
   "source": []
  }
 ],
 "metadata": {
  "kernelspec": {
   "display_name": "Python 3",
   "language": "python",
   "name": "python3"
  },
  "language_info": {
   "codemirror_mode": {
    "name": "ipython",
    "version": 3
   },
   "file_extension": ".py",
   "mimetype": "text/x-python",
   "name": "python",
   "nbconvert_exporter": "python",
   "pygments_lexer": "ipython3",
   "version": "3.8.5"
  }
 },
 "nbformat": 4,
 "nbformat_minor": 4
}
