{
 "cells": [
  {
   "cell_type": "markdown",
   "metadata": {},
   "source": [
    "# python_programming_basic_assignment_2"
   ]
  },
  {
   "cell_type": "markdown",
   "metadata": {},
   "source": [
    "QUESTION 1"
   ]
  },
  {
   "cell_type": "code",
   "execution_count": 9,
   "metadata": {},
   "outputs": [
    {
     "name": "stdout",
     "output_type": "stream",
     "text": [
      "To convert Km to Miles, enter 1, \n",
      "To convert Miles to Km, enter 0 :\n",
      "0\n",
      "Enter the Length in Miles: 6.2\n",
      "9.98  Km\n"
     ]
    }
   ],
   "source": [
    "#to contert kilometers to miles or vica versa\n",
    "\n",
    "i = int(input(\"To convert Km to Miles, enter 1 \\nTo convert Miles to Km, enter 0 :\\n\"))\n",
    "if i :\n",
    "    x = float(input(\"Enter the Length in Km: \"))\n",
    "    print( round( 0.6214 * x,2 ), \" Miles\")\n",
    "else:\n",
    "    x = float(input(\"Enter the Length in Miles: \"))\n",
    "    print( round( x/0.6214 ,2 ), \" Km\")"
   ]
  },
  {
   "cell_type": "markdown",
   "metadata": {},
   "source": [
    "QUESTION 2"
   ]
  },
  {
   "cell_type": "code",
   "execution_count": 22,
   "metadata": {},
   "outputs": [
    {
     "name": "stdout",
     "output_type": "stream",
     "text": [
      "To convert Celsius to Fahrenheit, enter 1, \n",
      "To convert Fahrenheit to Celsius, enter 0 :\n",
      "0\n",
      "Enter the temprature Fahrenheit: 104\n",
      "40.0  Celsius\n"
     ]
    }
   ],
   "source": [
    "#to contert Celsius to Fahrenheit or vica versa\n",
    "\n",
    "i = int(input(\"To convert Celsius to Fahrenheit, enter 1 \\nTo convert Fahrenheit to Celsius, enter 0 :\\n\"))\n",
    "if i :\n",
    "    x = float(input(\"Enter the temprature Celsius: \"))\n",
    "    print( round( (x*18/10)+32 , 2 ), \" Fahrenheit\")\n",
    "else:\n",
    "    x = float(input(\"Enter the temprature Fahrenheit: \"))\n",
    "    print( round( (x-32)*(10/18) ,2 ), \" Celsius\")"
   ]
  },
  {
   "cell_type": "markdown",
   "metadata": {},
   "source": [
    "QUESTION 3"
   ]
  },
  {
   "cell_type": "code",
   "execution_count": 137,
   "metadata": {},
   "outputs": [
    {
     "name": "stdout",
     "output_type": "stream",
     "text": [
      "enter the year:\t2021\n",
      "\n",
      "JANUARY \n",
      "\n",
      "Sun\tMon\tTue\tWed\tThu\tFri\tSat\t\n",
      "\t\t\t\t\t1\t2\t\n",
      "3\t4\t5\t6\t7\t8\t9\t\n",
      "10\t11\t12\t13\t14\t15\t16\t\n",
      "17\t18\t19\t20\t21\t22\t23\t\n",
      "24\t25\t26\t27\t28\t29\t30\t\n",
      "31\t\n",
      "\n",
      "FEBUARY \n",
      "\n",
      "Sun\tMon\tTue\tWed\tThu\tFri\tSat\t\n",
      "\t1\t2\t3\t4\t5\t6\t\n",
      "7\t8\t9\t10\t11\t12\t13\t\n",
      "14\t15\t16\t17\t18\t19\t20\t\n",
      "21\t22\t23\t24\t25\t26\t27\t\n",
      "28\t\n",
      "\n",
      "MARCH \n",
      "\n",
      "Sun\tMon\tTue\tWed\tThu\tFri\tSat\t\n",
      "\t1\t2\t3\t4\t5\t6\t\n",
      "7\t8\t9\t10\t11\t12\t13\t\n",
      "14\t15\t16\t17\t18\t19\t20\t\n",
      "21\t22\t23\t24\t25\t26\t27\t\n",
      "28\t29\t30\t31\t\n",
      "\n",
      "April \n",
      "\n",
      "Sun\tMon\tTue\tWed\tThu\tFri\tSat\t\n",
      "\t\t\t\t1\t2\t3\t\n",
      "4\t5\t6\t7\t8\t9\t10\t\n",
      "11\t12\t13\t14\t15\t16\t17\t\n",
      "18\t19\t20\t21\t22\t23\t24\t\n",
      "25\t26\t27\t28\t29\t30\t\n",
      "\n",
      "MAY \n",
      "\n",
      "Sun\tMon\tTue\tWed\tThu\tFri\tSat\t\n",
      "\t\t\t\t\t\t1\t\n",
      "2\t3\t4\t5\t6\t7\t8\t\n",
      "9\t10\t11\t12\t13\t14\t15\t\n",
      "16\t17\t18\t19\t20\t21\t22\t\n",
      "23\t24\t25\t26\t27\t28\t29\t\n",
      "30\t31\t\n",
      "\n",
      "JUNE \n",
      "\n",
      "Sun\tMon\tTue\tWed\tThu\tFri\tSat\t\n",
      "\t\t1\t2\t3\t4\t5\t\n",
      "6\t7\t8\t9\t10\t11\t12\t\n",
      "13\t14\t15\t16\t17\t18\t19\t\n",
      "20\t21\t22\t23\t24\t25\t26\t\n",
      "27\t28\t29\t30\t\n",
      "\n",
      "JULY \n",
      "\n",
      "Sun\tMon\tTue\tWed\tThu\tFri\tSat\t\n",
      "\t\t\t\t1\t2\t3\t\n",
      "4\t5\t6\t7\t8\t9\t10\t\n",
      "11\t12\t13\t14\t15\t16\t17\t\n",
      "18\t19\t20\t21\t22\t23\t24\t\n",
      "25\t26\t27\t28\t29\t30\t31\t\n",
      "\n",
      "\n",
      "AUGUST \n",
      "\n",
      "Sun\tMon\tTue\tWed\tThu\tFri\tSat\t\n",
      "1\t2\t3\t4\t5\t6\t7\t\n",
      "8\t9\t10\t11\t12\t13\t14\t\n",
      "15\t16\t17\t18\t19\t20\t21\t\n",
      "22\t23\t24\t25\t26\t27\t28\t\n",
      "29\t30\t31\t\n",
      "\n",
      "SEPTEMBER \n",
      "\n",
      "Sun\tMon\tTue\tWed\tThu\tFri\tSat\t\n",
      "\t\t\t1\t2\t3\t4\t\n",
      "5\t6\t7\t8\t9\t10\t11\t\n",
      "12\t13\t14\t15\t16\t17\t18\t\n",
      "19\t20\t21\t22\t23\t24\t25\t\n",
      "26\t27\t28\t29\t30\t\n",
      "\n",
      "OCTOBER \n",
      "\n",
      "Sun\tMon\tTue\tWed\tThu\tFri\tSat\t\n",
      "\t\t\t\t\t1\t2\t\n",
      "3\t4\t5\t6\t7\t8\t9\t\n",
      "10\t11\t12\t13\t14\t15\t16\t\n",
      "17\t18\t19\t20\t21\t22\t23\t\n",
      "24\t25\t26\t27\t28\t29\t30\t\n",
      "31\t\n",
      "\n",
      "NOVEMBER \n",
      "\n",
      "Sun\tMon\tTue\tWed\tThu\tFri\tSat\t\n",
      "\t1\t2\t3\t4\t5\t6\t\n",
      "7\t8\t9\t10\t11\t12\t13\t\n",
      "14\t15\t16\t17\t18\t19\t20\t\n",
      "21\t22\t23\t24\t25\t26\t27\t\n",
      "28\t29\t30\t\n",
      "\n",
      "DECEMBER \n",
      "\n",
      "Sun\tMon\tTue\tWed\tThu\tFri\tSat\t\n",
      "\t\t\t1\t2\t3\t4\t\n",
      "5\t6\t7\t8\t9\t10\t11\t\n",
      "12\t13\t14\t15\t16\t17\t18\t\n",
      "19\t20\t21\t22\t23\t24\t25\t\n",
      "26\t27\t28\t29\t30\t31\t\n",
      "\n"
     ]
    }
   ],
   "source": [
    "#Display Calander\n",
    "#Applicable for years of 20th and 21st Century\n",
    "\n",
    "days = {'Sun\\t':0, 'Mon\\t':1, 'Tue\\t':2, 'Wed\\t':3, 'Thu\\t':4, 'Fri\\t':5, 'Sat\\t':6}\n",
    "mt = {'JANUARY':31,'FEBUARY':28,'MARCH':31,'April':30,'MAY':31,'JUNE':30,'JULY':31,'AUGUST':31,'SEPTEMBER':30,'OCTOBER':31,\n",
    "      'NOVEMBER':30,'DECEMBER':31}\n",
    "\n",
    "def isleap(yr):\n",
    "    # to check if a year is a leap year\n",
    "    \n",
    "    if yr%4 == 0 and yr%100 != 0 or yr%400 == 0:\n",
    "        return(1)\n",
    "    else:\n",
    "        return(0)\n",
    "\n",
    "yr = int(input(\"enter the year:\\t\"))\n",
    "print(\"\")\n",
    "\n",
    "if yr in range (1900,2000):\n",
    "    x = yr%100\n",
    "    y = x//4                   #No. of Leap yr btwn 1900 & yr\n",
    "    z = (1+x+y)%7              #day of 1st jan of that year\n",
    "    if isleap(yr):\n",
    "        z=z-1\n",
    "elif yr in range (2000,3000):\n",
    "    x = yr-1900\n",
    "    y = x//4                   #No. of Leap yr btwn 1900 & yr\n",
    "    z = (1+x+y)%7              #day of 1st jan of that year\n",
    "    if isleap(yr):\n",
    "        z=z-1\n",
    "    \n",
    "for i in mt:                   #month iteration\n",
    "    \n",
    "    print (i,\"\\n\")             #month header\n",
    "    \n",
    "    for day in days:\n",
    "        print (day,end=\"\")     #week header\n",
    "    \n",
    "    print (\"\")                 #new line after week header    \n",
    "        \n",
    "    print ('\\t'*z, end = \"\")   #to indent cursor to 1st DAY of that month            \n",
    "            \n",
    "    nday = mt[i]               #contains no. of days in this month\n",
    "        \n",
    "    if i == 'FEBUARY':         #if leap yr feb will have 29 days\n",
    "        if isleap(yr):\n",
    "            nday = 29 \n",
    "        \n",
    "    for j in range (1,nday+1):\n",
    "            \n",
    "        print(  str(j)+\"\\t\",end = \"\")\n",
    "        z +=1\n",
    "        if z == 7:\n",
    "            print ('')\n",
    "            z = 0\n",
    "         \n",
    "    print(\"\\n\")                #new line after month end\n"
   ]
  },
  {
   "cell_type": "markdown",
   "metadata": {},
   "source": [
    "QUESTION 4"
   ]
  },
  {
   "cell_type": "code",
   "execution_count": 133,
   "metadata": {},
   "outputs": [
    {
     "name": "stdout",
     "output_type": "stream",
     "text": [
      "a x2 + b x + c = 0 \n",
      "enter values of a:\t1\n",
      "enter values of b:\t0\n",
      "enter values of c:\t-16\n",
      "solution:\tx1=  4.0 \tx2=  -4.0\n"
     ]
    }
   ],
   "source": [
    "#Solve Quadratic equation\n",
    "\n",
    "from math import sqrt as sqrt\n",
    "\n",
    "print (\"a x2 + b x + c = 0 \")\n",
    "a = int(input(\"enter values of a:\\t\"))\n",
    "b = int(input(\"enter values of b:\\t\"))\n",
    "c = int(input(\"enter values of c:\\t\"))\n",
    "\n",
    "D = b**2 - 4*a*c\n",
    "\n",
    "if D >0:\n",
    "    x1 = (-b+sqrt(b**2-4*a*c))/2*a\n",
    "    x2 = (-b-sqrt(b**2-4*a*c))/2*a\n",
    "    print(\"solution:\\tx1= \",x1,\"\\tx2= \",x2)\n",
    "elif D == 0:\n",
    "    x1  = (-b/2*a)\n",
    "    print(\"solution:\\tx1= \",x1,\"\\tx2= \",x1)\n",
    "else:\n",
    "    print(\"No Real solution possible\")\n"
   ]
  },
  {
   "cell_type": "markdown",
   "metadata": {},
   "source": [
    "QUESTION 5"
   ]
  },
  {
   "cell_type": "code",
   "execution_count": 136,
   "metadata": {},
   "outputs": [
    {
     "name": "stdout",
     "output_type": "stream",
     "text": [
      "enter the value of a 10\n",
      "enter the value of b up\n",
      "value stored in a:  up \n",
      "value stored in b:  10\n"
     ]
    }
   ],
   "source": [
    "#SWAPING without temp for string data type\n",
    "\n",
    "a = input(\"enter the value of a \")\n",
    "b = input(\"enter the value of b \")\n",
    "a,b = b,a\n",
    "print(\"value stored in a: \",a,\"\\nvalue stored in b: \", b)"
   ]
  },
  {
   "cell_type": "code",
   "execution_count": null,
   "metadata": {},
   "outputs": [],
   "source": []
  }
 ],
 "metadata": {
  "kernelspec": {
   "display_name": "Python 3",
   "language": "python",
   "name": "python3"
  },
  "language_info": {
   "codemirror_mode": {
    "name": "ipython",
    "version": 3
   },
   "file_extension": ".py",
   "mimetype": "text/x-python",
   "name": "python",
   "nbconvert_exporter": "python",
   "pygments_lexer": "ipython3",
   "version": "3.8.5"
  }
 },
 "nbformat": 4,
 "nbformat_minor": 4
}
