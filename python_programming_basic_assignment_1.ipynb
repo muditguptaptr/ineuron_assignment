{
 "cells": [
  {
   "cell_type": "markdown",
   "metadata": {},
   "source": [
    "# python_programming_basic_assignment_1"
   ]
  },
  {
   "cell_type": "markdown",
   "metadata": {},
   "source": [
    "QUESTION 1"
   ]
  },
  {
   "cell_type": "code",
   "execution_count": 29,
   "metadata": {},
   "outputs": [
    {
     "name": "stdout",
     "output_type": "stream",
     "text": [
      "Hello Python\n"
     ]
    }
   ],
   "source": [
    "print (\"Hello Python\")"
   ]
  },
  {
   "cell_type": "markdown",
   "metadata": {},
   "source": [
    "QUESTION 2"
   ]
  },
  {
   "cell_type": "code",
   "execution_count": 25,
   "metadata": {},
   "outputs": [
    {
     "name": "stdout",
     "output_type": "stream",
     "text": [
      "enter the value of a 10\n",
      "enter the value of b 2\n",
      "a+b =  12\n",
      "a/b =  5.0\n"
     ]
    }
   ],
   "source": [
    "#Basic Arithematic operation\n",
    "\n",
    "a = int(input(\"enter the value of a \"))\n",
    "b = int(input(\"enter the value of b \"))\n",
    "print (\"a+b = \", a+b)\n",
    "print (\"a/b = \", a/b)"
   ]
  },
  {
   "cell_type": "markdown",
   "metadata": {},
   "source": [
    "QUESTION 3"
   ]
  },
  {
   "cell_type": "code",
   "execution_count": 26,
   "metadata": {},
   "outputs": [
    {
     "name": "stdout",
     "output_type": "stream",
     "text": [
      "enter the base length(in meters): 2\n",
      "enter the height(in meters): 10\n",
      "area of triangle is:  10.0 sq meters\n"
     ]
    }
   ],
   "source": [
    "#Area of Triangle\n",
    "\n",
    "b = float(input(\"enter the base length(in meters): \"))\n",
    "h = float(input(\"enter the height(in meters): \"))\n",
    "print(\"area of triangle is: \", 0.5*b*h,\"sq meters\")"
   ]
  },
  {
   "cell_type": "markdown",
   "metadata": {},
   "source": [
    "QUESTION 4"
   ]
  },
  {
   "cell_type": "code",
   "execution_count": 30,
   "metadata": {},
   "outputs": [
    {
     "name": "stdout",
     "output_type": "stream",
     "text": [
      "enter the value of a 1\n",
      "enter the value of b 3\n",
      "value stored in a:  3 \n",
      "value stored in b:  1\n"
     ]
    }
   ],
   "source": [
    "#Swaping of values in variables\n",
    "\n",
    "a = int(input(\"enter the value of a \"))\n",
    "b = int(input(\"enter the value of b \"))\n",
    "\n",
    "temp = 0\n",
    "temp = b\n",
    "b = a\n",
    "a = temp\n",
    "\n",
    "print(\"value stored in a: \",a,\"\\nvalue stored in b: \", b)"
   ]
  },
  {
   "cell_type": "markdown",
   "metadata": {},
   "source": [
    "QUESTION 5"
   ]
  },
  {
   "cell_type": "code",
   "execution_count": 31,
   "metadata": {},
   "outputs": [
    {
     "name": "stdout",
     "output_type": "stream",
     "text": [
      "a(integer) =  18 \n",
      "b(number btwn 0 and 1) =  0.487136883398408\n"
     ]
    }
   ],
   "source": [
    "import random\n",
    "a = random.randint(10,20)\n",
    "b = random.random()\n",
    "print(\"a(integer) = \",a,\"\\nb(number btwn 0 and 1) = \",b)"
   ]
  },
  {
   "cell_type": "code",
   "execution_count": null,
   "metadata": {},
   "outputs": [],
   "source": []
  }
 ],
 "metadata": {
  "kernelspec": {
   "display_name": "Python 3",
   "language": "python",
   "name": "python3"
  },
  "language_info": {
   "codemirror_mode": {
    "name": "ipython",
    "version": 3
   },
   "file_extension": ".py",
   "mimetype": "text/x-python",
   "name": "python",
   "nbconvert_exporter": "python",
   "pygments_lexer": "ipython3",
   "version": "3.8.5"
  }
 },
 "nbformat": 4,
 "nbformat_minor": 4
}
