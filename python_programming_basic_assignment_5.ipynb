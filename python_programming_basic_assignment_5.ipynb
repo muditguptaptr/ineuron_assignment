{
 "cells": [
  {
   "cell_type": "markdown",
   "metadata": {},
   "source": [
    "# python_programming_basic_assignment_5"
   ]
  },
  {
   "cell_type": "markdown",
   "metadata": {},
   "source": [
    "# Q1"
   ]
  },
  {
   "cell_type": "code",
   "execution_count": 32,
   "metadata": {},
   "outputs": [
    {
     "name": "stdout",
     "output_type": "stream",
     "text": [
      "enter first number: 12\n",
      "enter first number: 15\n",
      "The LCM of numbers is:  60\n"
     ]
    }
   ],
   "source": [
    "#calculate LCM of 2 numbers\n",
    "\n",
    "a = int(input(\"enter first number: \"))\n",
    "b = int(input(\"enter first number: \"))\n",
    "\n",
    "lcm = 1\n",
    "while a !=1 or b!=1:\n",
    "    for i in range(2,max(a,b)+1):\n",
    "        if a%i == 0 or b %i == 0:\n",
    "            lcm = lcm *i\n",
    "            if a%i == 0:\n",
    "                a = int(a/i)\n",
    "            if b%i == 0:\n",
    "                b = int(b/i)\n",
    "            break\n",
    "print(\"The LCM of numbers is: \",lcm)\n",
    "             "
   ]
  },
  {
   "cell_type": "markdown",
   "metadata": {},
   "source": [
    "# Q2"
   ]
  },
  {
   "cell_type": "code",
   "execution_count": 43,
   "metadata": {},
   "outputs": [
    {
     "name": "stdout",
     "output_type": "stream",
     "text": [
      "enter first number: 300\n",
      "enter first number: 390\n",
      "[2, 2, 3, 5, 5]\n",
      "[2, 3, 5, 13]\n",
      "HCF of 300 and 390 is  30\n"
     ]
    }
   ],
   "source": [
    "# Calculate HCF of 2 numbers\n",
    "\n",
    "def _factors(n):\n",
    "    ls = []\n",
    "    while n != 1:\n",
    "        for i in range(2,n):\n",
    "            if n%i==0:\n",
    "                ls.append(i)\n",
    "                n=int(n/i)\n",
    "                break\n",
    "        else:\n",
    "            ls.append(n)\n",
    "            n = 1            \n",
    "    return ls\n",
    "\n",
    "a = int(input(\"enter first number: \"))\n",
    "b = int(input(\"enter first number: \"))\n",
    "ls1 = _factors(a)\n",
    "ls1.sort()\n",
    "print(ls1)\n",
    "ls2 = _factors(b)\n",
    "ls2.sort()\n",
    "print(ls2)\n",
    "hcf = 1\n",
    "for i in ls1:\n",
    "    if i in ls2:\n",
    "        hcf = hcf*i\n",
    "        ls2.remove(i)\n",
    "print(\"HCF of {} and {} is \".format(a,b),hcf)"
   ]
  },
  {
   "cell_type": "markdown",
   "metadata": {},
   "source": [
    "# Q3"
   ]
  },
  {
   "cell_type": "code",
   "execution_count": 69,
   "metadata": {},
   "outputs": [
    {
     "name": "stdout",
     "output_type": "stream",
     "text": [
      "Enter a number:  100\n",
      "1100100\n"
     ]
    }
   ],
   "source": [
    "# Decimal to Binary\n",
    "n = int(input(\"Enter a decimal number:  \"))\n",
    "s = str()\n",
    "\n",
    "while n>1:\n",
    "    s += str(n%2)\n",
    "    n //= 2\n",
    "        \n",
    "s += '1'\n",
    "bin = (s[::-1])\n",
    "\n",
    "print(bin)                                       #string"
   ]
  },
  {
   "cell_type": "code",
   "execution_count": 66,
   "metadata": {},
   "outputs": [
    {
     "name": "stdout",
     "output_type": "stream",
     "text": [
      "Enter a number:  100\n",
      "144\n"
     ]
    }
   ],
   "source": [
    "# Decimal to Octal\n",
    "\n",
    "n = int(input(\"Enter a decimal number:  \"))\n",
    "s = str()\n",
    "\n",
    "while n > 8:\n",
    "    s += str(n%8)\n",
    "    n = n//8\n",
    "\n",
    "s = s + str(n)\n",
    "oct = s[::-1]\n",
    "\n",
    "print(oct)"
   ]
  },
  {
   "cell_type": "code",
   "execution_count": 75,
   "metadata": {},
   "outputs": [
    {
     "name": "stdout",
     "output_type": "stream",
     "text": [
      "Enter a decimal number:  1000\n",
      "3E8\n"
     ]
    }
   ],
   "source": [
    "# Decimal to hexadecimal\n",
    "\n",
    "ls = ['0','1','2','3','4','5','6','7','8','9','A','B','C','D','E','F']\n",
    "n = int(input(\"Enter a decimal number:  \"))\n",
    "s = str()\n",
    "\n",
    "while n > 16:\n",
    "    s += ls[n%16]\n",
    "    n = n//16\n",
    "\n",
    "s = s + str(n)\n",
    "hex = s[::-1]\n",
    "\n",
    "print(hex)"
   ]
  },
  {
   "cell_type": "markdown",
   "metadata": {},
   "source": [
    "# Q4"
   ]
  },
  {
   "cell_type": "code",
   "execution_count": 87,
   "metadata": {},
   "outputs": [
    {
     "name": "stdout",
     "output_type": "stream",
     "text": [
      "enter 1 to get output as ASCII value of given char, Else press 0 to get Char represesenting the given ASCII value\n",
      "Enter 1 or 0:  _0\n",
      "Enter a character or ASCII accordingly:  _65\n",
      "The char of the ASCII value  65 is: _ A\n"
     ]
    }
   ],
   "source": [
    "# to find the ASCII value of a character\n",
    "print('enter 1 to get output as ASCII value of given char, Else press 0 to get Char represesenting the given ASCII value')\n",
    "i = int(input (\"Enter 1 or 0:  _\"))\n",
    "n = input(\"Enter a character or ASCII accordingly:  _\")\n",
    "if i:\n",
    "    print( 'The ASCII value of the char ',n, \"is: _\",ord(n))\n",
    "else:\n",
    "    print( 'The char of the ASCII value ',n, \"is: _\", chr(int(n)))"
   ]
  },
  {
   "cell_type": "markdown",
   "metadata": {},
   "source": [
    "# Q5"
   ]
  },
  {
   "cell_type": "code",
   "execution_count": 92,
   "metadata": {},
   "outputs": [
    {
     "name": "stdout",
     "output_type": "stream",
     "text": [
      "Enter '+' for addition; '-' for subtraction; '*' for Multiplication; '/' for Division:\t-\n",
      "For (a - b) Enter value of a: 6\n",
      "For (a - b) Enter value of b: 2\n",
      "6 - 2 = 4\n"
     ]
    }
   ],
   "source": [
    "# Arithematic calculator\n",
    "\n",
    "def _sum(a,b):\n",
    "    return a+b\n",
    "def _sub(a,b):\n",
    "    return a-b\n",
    "def _mul(a,b):\n",
    "    return a*b\n",
    "def _div(a,b):\n",
    "    return a/b\n",
    "\n",
    "i = input(\"Enter '+' for addition; '-' for subtraction; '*' for Multiplication; '/' for Division:\\t\")\n",
    "\n",
    "a = int(input('For (a {} b) Enter value of a: '.format(i)))\n",
    "b = int(input('For (a {} b) Enter value of b: '.format(i)))\n",
    "\n",
    "if i=='+':\n",
    "    print (\"{} + {} = {}\".format(a,b,_sum(a,b)))\n",
    "elif i == '-':\n",
    "    print (\"{} - {} = {}\".format(a,b,_sub(a,b)))\n",
    "elif i == '*':\n",
    "    print (\"{} * {} = {}\".format(a,b,_mul(a,b)))\n",
    "elif i == '/':\n",
    "    print (\"{} / {} = {}\".format(a,b,_div(a,b)))\n",
    "else: print(\"Incorrect Input operator\")"
   ]
  },
  {
   "cell_type": "code",
   "execution_count": null,
   "metadata": {},
   "outputs": [],
   "source": []
  }
 ],
 "metadata": {
  "kernelspec": {
   "display_name": "Python 3",
   "language": "python",
   "name": "python3"
  },
  "language_info": {
   "codemirror_mode": {
    "name": "ipython",
    "version": 3
   },
   "file_extension": ".py",
   "mimetype": "text/x-python",
   "name": "python",
   "nbconvert_exporter": "python",
   "pygments_lexer": "ipython3",
   "version": "3.8.5"
  }
 },
 "nbformat": 4,
 "nbformat_minor": 4
}
